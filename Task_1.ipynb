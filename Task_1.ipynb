{
 "cells": [
  {
   "cell_type": "markdown",
   "id": "477d5bc4cad33926",
   "metadata": {},
   "source": [
    "# Task 1\n",
    "Display samples from this dataset in a 5 x C table: columns correspond to character IDs, rows to five random samples from the same category."
   ]
  },
  {
   "cell_type": "code",
   "execution_count": 1,
   "id": "c2c621d03e5f7279",
   "metadata": {
    "ExecuteTime": {
     "end_time": "2023-10-09T19:49:43.617427Z",
     "start_time": "2023-10-09T19:49:43.163507Z"
    }
   },
   "outputs": [],
   "source": [
    "import numpy as np\n",
    "import torchvision\n",
    "from torchvision import datasets, transforms\n",
    "import matplotlib.pyplot as plt"
   ]
  },
  {
   "cell_type": "markdown",
   "id": "d998ee85",
   "metadata": {},
   "source": [
    "## Load Data"
   ]
  },
  {
   "cell_type": "code",
   "execution_count": 3,
   "id": "1c8a17d7",
   "metadata": {},
   "outputs": [],
   "source": [
    "transform=transforms.Compose([lambda img: torchvision.transforms.functional.rotate(img, -90),\n",
    "                                transforms.RandomHorizontalFlip(p=1),\n",
    "                                transforms.ToTensor()])\n",
    "\n",
    "training_data = datasets.EMNIST(\n",
    "    root=\"./data\",\n",
    "    split=\"byclass\",\n",
    "    download=True,\n",
    "    transform=transform\n",
    ")"
   ]
  },
  {
   "cell_type": "markdown",
   "id": "18536e72",
   "metadata": {},
   "source": [
    "## Plot Data"
   ]
  },
  {
   "cell_type": "code",
   "execution_count": null,
   "id": "7800a839",
   "metadata": {},
   "outputs": [],
   "source": [
    "# Define constants\n",
    "C = 47  # Number of classes in EMNIST balanced dataset\n",
    "ROWS, COLS = 5, C\n",
    "\n",
    "# Initialize a list to store indices for each character ID\n",
    "indices = {label: [] for label in range(C)}\n",
    "\n",
    "# Fill the indices list\n",
    "for i, (_, label) in enumerate(training_data):\n",
    "    if label in indices and len(indices[label]) < ROWS:\n",
    "        indices[label].append(i)\n",
    "\n",
    "# Display the samples in 5 x C format\n",
    "figure = plt.figure(figsize=(20, 10))\n",
    "\n",
    "for col, label in enumerate(indices.keys()):\n",
    "    for row, idx in enumerate(indices[label]):\n",
    "        img, label_idx = training_data[idx]\n",
    "        figure.add_subplot(ROWS, COLS, col + row * COLS + 1)\n",
    "        label_name = training_data.classes[label_idx]\n",
    "        if row == 0:\n",
    "            plt.title(label_name, fontsize=10)\n",
    "        plt.xticks([])\n",
    "        plt.yticks([])\n",
    "        plt.imshow(img.squeeze(), cmap=plt.cm.binary)\n",
    "\n",
    "plt.tight_layout()\n",
    "plt.savefig('Task_1.png', dpi=300, bbox_inches='tight')\n",
    "plt.show()\n"
   ]
  },
  {
   "cell_type": "code",
   "execution_count": null,
   "id": "473f0ece",
   "metadata": {},
   "outputs": [],
   "source": []
  }
 ],
 "metadata": {
  "kernelspec": {
   "display_name": "Python 3 (ipykernel)",
   "language": "python",
   "name": "python3"
  },
  "language_info": {
   "codemirror_mode": {
    "name": "ipython",
    "version": 3
   },
   "file_extension": ".py",
   "mimetype": "text/x-python",
   "name": "python",
   "nbconvert_exporter": "python",
   "pygments_lexer": "ipython3",
   "version": "3.9.16"
  }
 },
 "nbformat": 4,
 "nbformat_minor": 5
}
