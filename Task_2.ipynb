{
 "cells": [
  {
   "cell_type": "markdown",
   "id": "477d5bc4cad33926",
   "metadata": {},
   "source": [
    "# Task 2"
   ]
  },
  {
   "cell_type": "code",
   "execution_count": 2,
   "id": "ff6bfeb5",
   "metadata": {},
   "outputs": [],
   "source": [
    "import numpy as np\n",
    "import torchvision\n",
    "from torchvision import datasets, transforms\n",
    "import matplotlib.pyplot as plt"
   ]
  },
  {
   "cell_type": "markdown",
   "id": "3095da7c",
   "metadata": {},
   "source": [
    "## Task 2.1\n",
    "Implement two learning paradigms, MLE and MAP for model parameters, i.e., 𝑝(Θ|D,𝛼,𝛽), as Estimator Fit method."
   ]
  },
  {
   "cell_type": "markdown",
   "id": "806e651a",
   "metadata": {},
   "source": [
    "## Load Data"
   ]
  },
  {
   "cell_type": "code",
   "execution_count": null,
   "id": "9bc01057",
   "metadata": {},
   "outputs": [],
   "source": [
    "transform=transforms.Compose([lambda img: torchvision.transforms.functional.rotate(img, -90),\n",
    "                                transforms.RandomHorizontalFlip(p=1),\n",
    "                                transforms.ToTensor()])\n",
    "\n",
    "training_data = datasets.EMNIST(\n",
    "    root=\"./data\",\n",
    "    split=\"byclass\",\n",
    "    download=True,\n",
    "    transform=transform\n",
    ")"
   ]
  },
  {
   "cell_type": "code",
   "execution_count": 3,
   "id": "d7115fb2",
   "metadata": {},
   "outputs": [],
   "source": []
  }
 ],
 "metadata": {
  "kernelspec": {
   "display_name": "Python 3 (ipykernel)",
   "language": "python",
   "name": "python3"
  },
  "language_info": {
   "codemirror_mode": {
    "name": "ipython",
    "version": 3
   },
   "file_extension": ".py",
   "mimetype": "text/x-python",
   "name": "python",
   "nbconvert_exporter": "python",
   "pygments_lexer": "ipython3",
   "version": "3.9.16"
  }
 },
 "nbformat": 4,
 "nbformat_minor": 5
}
